{
 "cells": [
  {
   "cell_type": "code",
   "execution_count": 2,
   "id": "88e1333f",
   "metadata": {},
   "outputs": [
    {
     "name": "stdout",
     "output_type": "stream",
     "text": [
      "Choose a noun: hand\n",
      "Choose a plural noun: books\n",
      "Choose a noun: desk\n",
      "Name a place: Yale-NUS\n",
      "Choose an adjective (Describing word): ginormous\n",
      "Choose a noun: sand\n",
      "------------------------------------------\n",
      "Make sure you take care of your hand - footed books\n",
      "For one man's poison may be another man's desk ,\n",
      "Do not have mercy for books in Yale-NUS\n",
      "Where the weather is always ginormous .\n",
      "\n",
      "You may think that is this the sand ,\n",
      "Well it is.\n",
      "------------------------------------------\n",
      "Choose a noun: computer\n",
      "Choose a plural noun: notebooks\n",
      "Choose a noun: Jupyter\n",
      "Name a place: Google\n",
      "Choose an adjective (Describing word): similar\n",
      "Choose a noun: saint\n",
      "------------------------------------------\n",
      "Make sure you take care of your computer - footed notebooks\n",
      "For one man's poison may be another man's Jupyter ,\n",
      "Do not have mercy for notebooks in Google\n",
      "Where the weather is always similar .\n",
      "\n",
      "You may think that is this the saint ,\n",
      "Well it is.\n",
      "------------------------------------------\n"
     ]
    }
   ],
   "source": [
    "\"\"\" Mad Libs Generator\n",
    "----------------------------------------\n",
    "\"\"\"\n",
    "# Loop back to this point once code finishes\n",
    "loop = 1\n",
    "while (loop < 3):\n",
    "# All the questions that the program asks the user\n",
    "    noun = input(\"Choose a noun: \")\n",
    "    p_noun = input(\"Choose a plural noun: \")\n",
    "    noun2 = input(\"Choose a noun: \")\n",
    "    place = input(\"Name a place: \")\n",
    "    adjective = input(\"Choose an adjective (Describing word): \")\n",
    "    noun3 = input(\"Choose a noun: \")\n",
    "# Displays the story based on the users input\n",
    "    print (\"------------------------------------------\")\n",
    "    print (\"Make sure you take care of your\",noun,\"- footed\", p_noun)\n",
    "    print (\"For one man's poison may be another man's\", noun2,\",\")\n",
    "    print (\"Do not have mercy for\",p_noun,\"in\",place)\n",
    "    print (\"Where the weather is always\",adjective,\".\")\n",
    "    print ()\n",
    "    print (\"You may think that is this the\",noun3,\",\")\n",
    "    print (\"Well it is.\")\n",
    "    print (\"------------------------------------------\")\n",
    "# Loop back to \"loop = 1\"\n",
    "    loop = loop + 1"
   ]
  }
 ],
 "metadata": {
  "kernelspec": {
   "display_name": "Python 3",
   "language": "python",
   "name": "python3"
  },
  "language_info": {
   "codemirror_mode": {
    "name": "ipython",
    "version": 3
   },
   "file_extension": ".py",
   "mimetype": "text/x-python",
   "name": "python",
   "nbconvert_exporter": "python",
   "pygments_lexer": "ipython3",
   "version": "3.8.8"
  }
 },
 "nbformat": 4,
 "nbformat_minor": 5
}
