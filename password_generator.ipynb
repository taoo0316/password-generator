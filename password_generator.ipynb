{
 "cells": [
  {
   "cell_type": "code",
   "execution_count": 2,
   "id": "21d15f4b",
   "metadata": {},
   "outputs": [
    {
     "name": "stdout",
     "output_type": "stream",
     "text": [
      "hello, welcome to the password generator!\n",
      "\n",
      " Enter the length of password : 19\n",
      "@,W3uZ|Dk#Hlqn{pB)b\n"
     ]
    }
   ],
   "source": [
    "# import the relevant modules\n",
    "import random\n",
    "import string\n",
    "\n",
    "print(\"hello, welcome to the password generator!\")\n",
    "\n",
    "# input the length of password\n",
    "length = int(input(\"\\n Enter the length of password : \"))\n",
    "\n",
    "lower = string.ascii_lowercase\n",
    "upper = string.ascii_uppercase\n",
    "num = string.digits\n",
    "symbols = string.punctuation\n",
    "\n",
    "# combine the data\n",
    "all = lower + upper + num + symbols\n",
    "\n",
    "# use random\n",
    "temp = random.sample(all, length)\n",
    "\n",
    "# create the password\n",
    "password = \"\".join(temp)\n",
    "\n",
    "# print the password\n",
    "print(password)"
   ]
  }
 ],
 "metadata": {
  "kernelspec": {
   "display_name": "Python 3",
   "language": "python",
   "name": "python3"
  },
  "language_info": {
   "codemirror_mode": {
    "name": "ipython",
    "version": 3
   },
   "file_extension": ".py",
   "mimetype": "text/x-python",
   "name": "python",
   "nbconvert_exporter": "python",
   "pygments_lexer": "ipython3",
   "version": "3.8.8"
  }
 },
 "nbformat": 4,
 "nbformat_minor": 5
}
